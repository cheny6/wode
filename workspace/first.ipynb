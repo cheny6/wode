{
 "cells": [
  {
   "cell_type": "markdown",
   "metadata": {},
   "source": [
    "1.the first try of jax（简单的检测）"
   ]
  },
  {
   "cell_type": "code",
   "execution_count": 1,
   "metadata": {},
   "outputs": [
    {
     "name": "stdout",
     "output_type": "stream",
     "text": [
      "Looking in indexes: https://mirrors.bfsu.edu.cn/pypi/web/simple\n",
      "Requirement already satisfied: jax[cuda12.2] in /home/wode/公共/wode/.venv/lib/python3.11/site-packages (0.4.35)\n",
      "\u001b[33mWARNING: jax 0.4.35 does not provide the extra 'cuda12-2'\u001b[0m\u001b[33m\n",
      "\u001b[0mRequirement already satisfied: jaxlib<=0.4.35,>=0.4.34 in /home/wode/公共/wode/.venv/lib/python3.11/site-packages (from jax[cuda12.2]) (0.4.35)\n",
      "Requirement already satisfied: ml-dtypes>=0.4.0 in /home/wode/公共/wode/.venv/lib/python3.11/site-packages (from jax[cuda12.2]) (0.5.0)\n",
      "Requirement already satisfied: numpy>=1.24 in /home/wode/公共/wode/.venv/lib/python3.11/site-packages (from jax[cuda12.2]) (2.1.3)\n",
      "Requirement already satisfied: opt-einsum in /home/wode/公共/wode/.venv/lib/python3.11/site-packages (from jax[cuda12.2]) (3.4.0)\n",
      "Requirement already satisfied: scipy>=1.10 in /home/wode/公共/wode/.venv/lib/python3.11/site-packages (from jax[cuda12.2]) (1.14.1)\n",
      "Note: you may need to restart the kernel to use updated packages.\n"
     ]
    }
   ],
   "source": [
    "pip install --upgrade \"jax[cuda12.2]\" "
   ]
  },
  {
   "cell_type": "code",
   "execution_count": 2,
   "metadata": {},
   "outputs": [
    {
     "name": "stdout",
     "output_type": "stream",
     "text": [
      "Looking in indexes: https://mirrors.bfsu.edu.cn/pypi/web/simple\n",
      "Requirement already satisfied: numpy in /home/wode/公共/wode/.venv/lib/python3.11/site-packages (2.1.3)\n",
      "Requirement already satisfied: torch in /home/wode/公共/wode/.venv/lib/python3.11/site-packages (2.5.1)\n",
      "Requirement already satisfied: matplotlib in /home/wode/公共/wode/.venv/lib/python3.11/site-packages (3.9.2)\n",
      "Requirement already satisfied: filelock in /home/wode/公共/wode/.venv/lib/python3.11/site-packages (from torch) (3.16.1)\n",
      "Requirement already satisfied: typing-extensions>=4.8.0 in /home/wode/公共/wode/.venv/lib/python3.11/site-packages (from torch) (4.12.2)\n",
      "Requirement already satisfied: networkx in /home/wode/公共/wode/.venv/lib/python3.11/site-packages (from torch) (3.4.2)\n",
      "Requirement already satisfied: jinja2 in /home/wode/公共/wode/.venv/lib/python3.11/site-packages (from torch) (3.1.4)\n",
      "Requirement already satisfied: fsspec in /home/wode/公共/wode/.venv/lib/python3.11/site-packages (from torch) (2024.10.0)\n",
      "Requirement already satisfied: nvidia-cuda-nvrtc-cu12==12.4.127 in /home/wode/公共/wode/.venv/lib/python3.11/site-packages (from torch) (12.4.127)\n",
      "Requirement already satisfied: nvidia-cuda-runtime-cu12==12.4.127 in /home/wode/公共/wode/.venv/lib/python3.11/site-packages (from torch) (12.4.127)\n",
      "Requirement already satisfied: nvidia-cuda-cupti-cu12==12.4.127 in /home/wode/公共/wode/.venv/lib/python3.11/site-packages (from torch) (12.4.127)\n",
      "Requirement already satisfied: nvidia-cudnn-cu12==9.1.0.70 in /home/wode/公共/wode/.venv/lib/python3.11/site-packages (from torch) (9.1.0.70)\n",
      "Requirement already satisfied: nvidia-cublas-cu12==12.4.5.8 in /home/wode/公共/wode/.venv/lib/python3.11/site-packages (from torch) (12.4.5.8)\n",
      "Requirement already satisfied: nvidia-cufft-cu12==11.2.1.3 in /home/wode/公共/wode/.venv/lib/python3.11/site-packages (from torch) (11.2.1.3)\n",
      "Requirement already satisfied: nvidia-curand-cu12==10.3.5.147 in /home/wode/公共/wode/.venv/lib/python3.11/site-packages (from torch) (10.3.5.147)\n",
      "Requirement already satisfied: nvidia-cusolver-cu12==11.6.1.9 in /home/wode/公共/wode/.venv/lib/python3.11/site-packages (from torch) (11.6.1.9)\n",
      "Requirement already satisfied: nvidia-cusparse-cu12==12.3.1.170 in /home/wode/公共/wode/.venv/lib/python3.11/site-packages (from torch) (12.3.1.170)\n",
      "Requirement already satisfied: nvidia-nccl-cu12==2.21.5 in /home/wode/公共/wode/.venv/lib/python3.11/site-packages (from torch) (2.21.5)\n",
      "Requirement already satisfied: nvidia-nvtx-cu12==12.4.127 in /home/wode/公共/wode/.venv/lib/python3.11/site-packages (from torch) (12.4.127)\n",
      "Requirement already satisfied: nvidia-nvjitlink-cu12==12.4.127 in /home/wode/公共/wode/.venv/lib/python3.11/site-packages (from torch) (12.4.127)\n",
      "Requirement already satisfied: triton==3.1.0 in /home/wode/公共/wode/.venv/lib/python3.11/site-packages (from torch) (3.1.0)\n",
      "Requirement already satisfied: sympy==1.13.1 in /home/wode/公共/wode/.venv/lib/python3.11/site-packages (from torch) (1.13.1)\n",
      "Requirement already satisfied: mpmath<1.4,>=1.1.0 in /home/wode/公共/wode/.venv/lib/python3.11/site-packages (from sympy==1.13.1->torch) (1.3.0)\n",
      "Requirement already satisfied: contourpy>=1.0.1 in /home/wode/公共/wode/.venv/lib/python3.11/site-packages (from matplotlib) (1.3.1)\n",
      "Requirement already satisfied: cycler>=0.10 in /home/wode/公共/wode/.venv/lib/python3.11/site-packages (from matplotlib) (0.12.1)\n",
      "Requirement already satisfied: fonttools>=4.22.0 in /home/wode/公共/wode/.venv/lib/python3.11/site-packages (from matplotlib) (4.55.0)\n",
      "Requirement already satisfied: kiwisolver>=1.3.1 in /home/wode/公共/wode/.venv/lib/python3.11/site-packages (from matplotlib) (1.4.7)\n",
      "Requirement already satisfied: packaging>=20.0 in /home/wode/公共/wode/.venv/lib/python3.11/site-packages (from matplotlib) (24.2)\n",
      "Requirement already satisfied: pillow>=8 in /home/wode/公共/wode/.venv/lib/python3.11/site-packages (from matplotlib) (11.0.0)\n",
      "Requirement already satisfied: pyparsing>=2.3.1 in /home/wode/公共/wode/.venv/lib/python3.11/site-packages (from matplotlib) (3.2.0)\n",
      "Requirement already satisfied: python-dateutil>=2.7 in /home/wode/公共/wode/.venv/lib/python3.11/site-packages (from matplotlib) (2.9.0.post0)\n",
      "Requirement already satisfied: six>=1.5 in /home/wode/公共/wode/.venv/lib/python3.11/site-packages (from python-dateutil>=2.7->matplotlib) (1.16.0)\n",
      "Requirement already satisfied: MarkupSafe>=2.0 in /home/wode/公共/wode/.venv/lib/python3.11/site-packages (from jinja2->torch) (3.0.2)\n"
     ]
    }
   ],
   "source": [
    "!pip install numpy torch matplotlib"
   ]
  },
  {
   "cell_type": "code",
   "execution_count": 3,
   "metadata": {},
   "outputs": [
    {
     "name": "stdout",
     "output_type": "stream",
     "text": [
      "Looking in indexes: https://mirrors.bfsu.edu.cn/pypi/web/simple\n",
      "Requirement already satisfied: jax in /home/wode/公共/wode/.venv/lib/python3.11/site-packages (0.4.35)\n",
      "Requirement already satisfied: jaxlib<=0.4.35,>=0.4.34 in /home/wode/公共/wode/.venv/lib/python3.11/site-packages (from jax) (0.4.35)\n",
      "Requirement already satisfied: ml-dtypes>=0.4.0 in /home/wode/公共/wode/.venv/lib/python3.11/site-packages (from jax) (0.5.0)\n",
      "Requirement already satisfied: numpy>=1.24 in /home/wode/公共/wode/.venv/lib/python3.11/site-packages (from jax) (2.1.3)\n",
      "Requirement already satisfied: opt-einsum in /home/wode/公共/wode/.venv/lib/python3.11/site-packages (from jax) (3.4.0)\n",
      "Requirement already satisfied: scipy>=1.10 in /home/wode/公共/wode/.venv/lib/python3.11/site-packages (from jax) (1.14.1)\n"
     ]
    }
   ],
   "source": [
    "!pip install --upgrade jax"
   ]
  },
  {
   "cell_type": "code",
   "execution_count": 4,
   "metadata": {},
   "outputs": [
    {
     "name": "stderr",
     "output_type": "stream",
     "text": [
      "An NVIDIA GPU may be present on this machine, but a CUDA-enabled jaxlib is not installed. Falling back to cpu.\n"
     ]
    },
    {
     "name": "stdout",
     "output_type": "stream",
     "text": [
      "0.04753851890563965\n",
      "[[1261.065  1244.5798 1237.2274 ... 1264.721  1246.037  1260.5391]\n",
      " [1256.1001 1239.737  1237.5563 ... 1257.1332 1243.5852 1243.5978]\n",
      " [1261.2687 1239.5004 1250.6694 ... 1259.8386 1250.6824 1248.5712]\n",
      " ...\n",
      " [1265.9806 1230.9076 1244.496  ... 1264.2375 1241.5996 1244.9275]\n",
      " [1262.9973 1253.9614 1256.2426 ... 1266.3485 1255.1581 1274.1865]\n",
      " [1273.3525 1252.4922 1261.0494 ... 1273.2395 1272.8289 1267.7482]]\n"
     ]
    }
   ],
   "source": [
    " \n",
    "import jax.numpy as np\n",
    " \n",
    "from jax import random\n",
    " \n",
    "import time\n",
    " \n",
    "x = random.uniform(random.PRNGKey(0), [5000, 5000])\n",
    " \n",
    "st=time.time()\n",
    " \n",
    "try:\n",
    " \n",
    "    y=np.matmul(x, x)\n",
    " \n",
    "except Exception:\n",
    " \n",
    "    print(\"erro\")\n",
    " \n",
    "print(time.time()-st)\n",
    " \n",
    "print(y)"
   ]
  },
  {
   "cell_type": "code",
   "execution_count": 5,
   "metadata": {},
   "outputs": [
    {
     "name": "stdout",
     "output_type": "stream",
     "text": [
      "0.29421353340148926\n",
      "[[1266.0521 1244.3492 1250.473  ... 1254.7515 1255.2498 1273.1646]\n",
      " [1254.2166 1234.985  1250.4999 ... 1253.28   1242.5857 1270.5966]\n",
      " [1256.092  1233.3672 1254.7457 ... 1243.8411 1245.7468 1266.3936]\n",
      " ...\n",
      " [1251.9117 1240.8333 1246.5258 ... 1241.3053 1236.0017 1260.5897]\n",
      " [1264.1781 1246.8868 1253.0725 ... 1256.7112 1245.0349 1281.681 ]\n",
      " [1238.217  1223.2812 1241.6333 ... 1230.8494 1244.1259 1266.9929]]\n"
     ]
    }
   ],
   "source": [
    "import numpy as np\n",
    " \n",
    "import time\n",
    " \n",
    "x = np.random.random([5000, 5000]).astype(np.float32)\n",
    " \n",
    "try:\n",
    " \n",
    "    st=time.time()\n",
    " \n",
    "    y=np.matmul(x, x)\n",
    " \n",
    "except Exception:\n",
    " \n",
    "    print(\"erro\")\n",
    " \n",
    "print(time.time()-st)\n",
    " \n",
    "print(y)"
   ]
  }
 ],
 "metadata": {
  "kernelspec": {
   "display_name": ".venv",
   "language": "python",
   "name": "python3"
  },
  "language_info": {
   "codemirror_mode": {
    "name": "ipython",
    "version": 3
   },
   "file_extension": ".py",
   "mimetype": "text/x-python",
   "name": "python",
   "nbconvert_exporter": "python",
   "pygments_lexer": "ipython3",
   "version": "3.11.2"
  }
 },
 "nbformat": 4,
 "nbformat_minor": 2
}
